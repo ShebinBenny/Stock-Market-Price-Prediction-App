{
 "cells": [
  {
   "cell_type": "code",
   "execution_count": 1,
   "id": "f776ddc3",
   "metadata": {},
   "outputs": [
    {
     "name": "stderr",
     "output_type": "stream",
     "text": [
      "[nltk_data] Downloading package stopwords to C:\\Users\\Shebin's\n",
      "[nltk_data]     PC\\AppData\\Roaming\\nltk_data...\n",
      "[nltk_data]   Package stopwords is already up-to-date!\n"
     ]
    }
   ],
   "source": [
    "import pandas as pd\n",
    "import numpy as np\n",
    "import pandas as pd\n",
    "import seaborn as sns\n",
    "import matplotlib.pyplot as plt\n",
    "%matplotlib inline  \n",
    "import nltk\n",
    "from nltk import word_tokenize, sent_tokenize\n",
    "from nltk.corpus import stopwords\n",
    "nltk.download('stopwords')\n",
    "from nltk.stem import LancasterStemmer, WordNetLemmatizer, PorterStemmer\n",
    "from wordcloud import WordCloud, STOPWORDS\n",
    "from textblob import TextBlob\n",
    "from sklearn import metrics\n",
    "from sklearn.model_selection import train_test_split\n",
    "from sklearn.linear_model import LinearRegression\n",
    "from sklearn.metrics import confusion_matrix , accuracy_score \n",
    "import warnings\n",
    "warnings.filterwarnings('ignore')"
   ]
  },
  {
   "cell_type": "code",
   "execution_count": 2,
   "id": "65d151a0",
   "metadata": {},
   "outputs": [],
   "source": [
    "dateparse = lambda dates: pd.datetime.strptime(dates, '%d-%m-%Y')\n",
    "df = pd.read_csv('MSFT Historical data & News.csv',sep=',', index_col='Date', parse_dates=['Date'], date_parser=dateparse)"
   ]
  },
  {
   "cell_type": "code",
   "execution_count": 3,
   "id": "789fa1e5",
   "metadata": {},
   "outputs": [
    {
     "data": {
      "text/html": [
       "<div>\n",
       "<style scoped>\n",
       "    .dataframe tbody tr th:only-of-type {\n",
       "        vertical-align: middle;\n",
       "    }\n",
       "\n",
       "    .dataframe tbody tr th {\n",
       "        vertical-align: top;\n",
       "    }\n",
       "\n",
       "    .dataframe thead th {\n",
       "        text-align: right;\n",
       "    }\n",
       "</style>\n",
       "<table border=\"1\" class=\"dataframe\">\n",
       "  <thead>\n",
       "    <tr style=\"text-align: right;\">\n",
       "      <th></th>\n",
       "      <th>Close</th>\n",
       "      <th>Volume</th>\n",
       "      <th>Open</th>\n",
       "      <th>High</th>\n",
       "      <th>Low</th>\n",
       "      <th>Headlines</th>\n",
       "    </tr>\n",
       "    <tr>\n",
       "      <th>Date</th>\n",
       "      <th></th>\n",
       "      <th></th>\n",
       "      <th></th>\n",
       "      <th></th>\n",
       "      <th></th>\n",
       "      <th></th>\n",
       "    </tr>\n",
       "  </thead>\n",
       "  <tbody>\n",
       "    <tr>\n",
       "      <th>2015-01-02</th>\n",
       "      <td>46.760</td>\n",
       "      <td>27843560</td>\n",
       "      <td>46.66</td>\n",
       "      <td>47.4200</td>\n",
       "      <td>46.54</td>\n",
       "      <td>What to expect from Apple in 2015 beyond its s...</td>\n",
       "    </tr>\n",
       "    <tr>\n",
       "      <th>2015-01-05</th>\n",
       "      <td>46.325</td>\n",
       "      <td>39667400</td>\n",
       "      <td>46.37</td>\n",
       "      <td>46.7300</td>\n",
       "      <td>46.25</td>\n",
       "      <td>SIM-free iPhone 6, 6 Plus reportedly debuting ...</td>\n",
       "    </tr>\n",
       "    <tr>\n",
       "      <th>2015-01-06</th>\n",
       "      <td>45.650</td>\n",
       "      <td>36434980</td>\n",
       "      <td>46.38</td>\n",
       "      <td>46.7490</td>\n",
       "      <td>45.54</td>\n",
       "      <td>Technology Transforming Cars Into \"Phones On W...</td>\n",
       "    </tr>\n",
       "    <tr>\n",
       "      <th>2015-01-07</th>\n",
       "      <td>46.230</td>\n",
       "      <td>29103920</td>\n",
       "      <td>45.98</td>\n",
       "      <td>46.4600</td>\n",
       "      <td>45.49</td>\n",
       "      <td>Technology Transforming Cars Into \"Phones On W...</td>\n",
       "    </tr>\n",
       "    <tr>\n",
       "      <th>2015-01-08</th>\n",
       "      <td>47.590</td>\n",
       "      <td>29634030</td>\n",
       "      <td>46.75</td>\n",
       "      <td>47.7499</td>\n",
       "      <td>46.72</td>\n",
       "      <td>Technology Transforming Cars Into \"Phones On W...</td>\n",
       "    </tr>\n",
       "    <tr>\n",
       "      <th>...</th>\n",
       "      <td>...</td>\n",
       "      <td>...</td>\n",
       "      <td>...</td>\n",
       "      <td>...</td>\n",
       "      <td>...</td>\n",
       "      <td>...</td>\n",
       "    </tr>\n",
       "    <tr>\n",
       "      <th>2021-06-03</th>\n",
       "      <td>245.710</td>\n",
       "      <td>25307710</td>\n",
       "      <td>245.22</td>\n",
       "      <td>246.3400</td>\n",
       "      <td>243.00</td>\n",
       "      <td>Buy RH Stock on the Dip Before Q1 Earnings for...</td>\n",
       "    </tr>\n",
       "    <tr>\n",
       "      <th>2021-06-04</th>\n",
       "      <td>250.790</td>\n",
       "      <td>25281090</td>\n",
       "      <td>247.76</td>\n",
       "      <td>251.6500</td>\n",
       "      <td>247.51</td>\n",
       "      <td>Global equities nearly grasp all-time record, ...</td>\n",
       "    </tr>\n",
       "    <tr>\n",
       "      <th>2021-06-07</th>\n",
       "      <td>253.810</td>\n",
       "      <td>23079170</td>\n",
       "      <td>249.98</td>\n",
       "      <td>254.0900</td>\n",
       "      <td>249.81</td>\n",
       "      <td>Apple employees want more remote-work flexibil...</td>\n",
       "    </tr>\n",
       "    <tr>\n",
       "      <th>2021-06-08</th>\n",
       "      <td>252.570</td>\n",
       "      <td>22455000</td>\n",
       "      <td>255.16</td>\n",
       "      <td>256.0100</td>\n",
       "      <td>252.51</td>\n",
       "      <td>Apple, Chinese manufacturers in talks on US ca...</td>\n",
       "    </tr>\n",
       "    <tr>\n",
       "      <th>2021-06-09</th>\n",
       "      <td>253.590</td>\n",
       "      <td>17937630</td>\n",
       "      <td>253.81</td>\n",
       "      <td>255.5300</td>\n",
       "      <td>253.21</td>\n",
       "      <td>Apple, Chinese manufacturers in talks on US ca...</td>\n",
       "    </tr>\n",
       "  </tbody>\n",
       "</table>\n",
       "<p>1620 rows × 6 columns</p>\n",
       "</div>"
      ],
      "text/plain": [
       "              Close    Volume    Open      High     Low  \\\n",
       "Date                                                      \n",
       "2015-01-02   46.760  27843560   46.66   47.4200   46.54   \n",
       "2015-01-05   46.325  39667400   46.37   46.7300   46.25   \n",
       "2015-01-06   45.650  36434980   46.38   46.7490   45.54   \n",
       "2015-01-07   46.230  29103920   45.98   46.4600   45.49   \n",
       "2015-01-08   47.590  29634030   46.75   47.7499   46.72   \n",
       "...             ...       ...     ...       ...     ...   \n",
       "2021-06-03  245.710  25307710  245.22  246.3400  243.00   \n",
       "2021-06-04  250.790  25281090  247.76  251.6500  247.51   \n",
       "2021-06-07  253.810  23079170  249.98  254.0900  249.81   \n",
       "2021-06-08  252.570  22455000  255.16  256.0100  252.51   \n",
       "2021-06-09  253.590  17937630  253.81  255.5300  253.21   \n",
       "\n",
       "                                                    Headlines  \n",
       "Date                                                           \n",
       "2015-01-02  What to expect from Apple in 2015 beyond its s...  \n",
       "2015-01-05  SIM-free iPhone 6, 6 Plus reportedly debuting ...  \n",
       "2015-01-06  Technology Transforming Cars Into \"Phones On W...  \n",
       "2015-01-07  Technology Transforming Cars Into \"Phones On W...  \n",
       "2015-01-08  Technology Transforming Cars Into \"Phones On W...  \n",
       "...                                                       ...  \n",
       "2021-06-03  Buy RH Stock on the Dip Before Q1 Earnings for...  \n",
       "2021-06-04  Global equities nearly grasp all-time record, ...  \n",
       "2021-06-07  Apple employees want more remote-work flexibil...  \n",
       "2021-06-08  Apple, Chinese manufacturers in talks on US ca...  \n",
       "2021-06-09  Apple, Chinese manufacturers in talks on US ca...  \n",
       "\n",
       "[1620 rows x 6 columns]"
      ]
     },
     "execution_count": 3,
     "metadata": {},
     "output_type": "execute_result"
    }
   ],
   "source": [
    "df"
   ]
  },
  {
   "cell_type": "code",
   "execution_count": 4,
   "id": "846c2b5d",
   "metadata": {},
   "outputs": [
    {
     "name": "stdout",
     "output_type": "stream",
     "text": [
      "<class 'pandas.core.frame.DataFrame'>\n",
      "DatetimeIndex: 1620 entries, 2015-01-02 to 2021-06-09\n",
      "Data columns (total 6 columns):\n",
      " #   Column     Non-Null Count  Dtype  \n",
      "---  ------     --------------  -----  \n",
      " 0   Close      1620 non-null   float64\n",
      " 1   Volume     1620 non-null   int64  \n",
      " 2   Open       1620 non-null   float64\n",
      " 3   High       1620 non-null   float64\n",
      " 4   Low        1620 non-null   float64\n",
      " 5   Headlines  1620 non-null   object \n",
      "dtypes: float64(4), int64(1), object(1)\n",
      "memory usage: 88.6+ KB\n"
     ]
    }
   ],
   "source": [
    "df.info()"
   ]
  },
  {
   "cell_type": "code",
   "execution_count": 5,
   "id": "ae8b3c35",
   "metadata": {},
   "outputs": [],
   "source": [
    "df['Volume']=df['Volume'].astype(float)"
   ]
  },
  {
   "cell_type": "code",
   "execution_count": 6,
   "id": "eee68bd8",
   "metadata": {},
   "outputs": [
    {
     "name": "stdout",
     "output_type": "stream",
     "text": [
      "<class 'pandas.core.frame.DataFrame'>\n",
      "DatetimeIndex: 1620 entries, 2015-01-02 to 2021-06-09\n",
      "Data columns (total 6 columns):\n",
      " #   Column     Non-Null Count  Dtype  \n",
      "---  ------     --------------  -----  \n",
      " 0   Close      1620 non-null   float64\n",
      " 1   Volume     1620 non-null   float64\n",
      " 2   Open       1620 non-null   float64\n",
      " 3   High       1620 non-null   float64\n",
      " 4   Low        1620 non-null   float64\n",
      " 5   Headlines  1620 non-null   object \n",
      "dtypes: float64(5), object(1)\n",
      "memory usage: 88.6+ KB\n"
     ]
    }
   ],
   "source": [
    "df.info()"
   ]
  },
  {
   "cell_type": "code",
   "execution_count": 7,
   "id": "32ca7de1",
   "metadata": {},
   "outputs": [
    {
     "data": {
      "text/plain": [
       "Close        0\n",
       "Volume       0\n",
       "Open         0\n",
       "High         0\n",
       "Low          0\n",
       "Headlines    0\n",
       "dtype: int64"
      ]
     },
     "execution_count": 7,
     "metadata": {},
     "output_type": "execute_result"
    }
   ],
   "source": [
    "df.isnull().sum()"
   ]
  },
  {
   "cell_type": "code",
   "execution_count": 8,
   "id": "3bdd4e2c",
   "metadata": {},
   "outputs": [
    {
     "data": {
      "text/plain": [
       "<AxesSubplot:xlabel='variable', ylabel='value'>"
      ]
     },
     "execution_count": 8,
     "metadata": {},
     "output_type": "execute_result"
    },
    {
     "data": {
      "image/png": "[encoded data removed]",
      "text/plain": [
       "<Figure size 432x288 with 1 Axes>"
      ]
     },
     "metadata": {
      "needs_background": "light"
     },
     "output_type": "display_data"
    }
   ],
   "source": [
    "#checking for outliers\n",
    "col = ['Open','High','Low','Close']\n",
    "ft = df[col]\n",
    "sns.boxplot(x=\"variable\", y=\"value\",data=pd.melt(ft))  "
   ]
  },
  {
   "cell_type": "code",
   "execution_count": 9,
   "id": "8debb9a9",
   "metadata": {},
   "outputs": [],
   "source": [
    "df['Headlines'] = df['Headlines'].astype(str)"
   ]
  },
  {
   "cell_type": "code",
   "execution_count": 10,
   "id": "6a88d3fb",
   "metadata": {},
   "outputs": [
    {
     "data": {
      "text/html": [
       "<div>\n",
       "<style scoped>\n",
       "    .dataframe tbody tr th:only-of-type {\n",
       "        vertical-align: middle;\n",
       "    }\n",
       "\n",
       "    .dataframe tbody tr th {\n",
       "        vertical-align: top;\n",
       "    }\n",
       "\n",
       "    .dataframe thead th {\n",
       "        text-align: right;\n",
       "    }\n",
       "</style>\n",
       "<table border=\"1\" class=\"dataframe\">\n",
       "  <thead>\n",
       "    <tr style=\"text-align: right;\">\n",
       "      <th></th>\n",
       "      <th>Close</th>\n",
       "      <th>Volume</th>\n",
       "      <th>Open</th>\n",
       "      <th>High</th>\n",
       "      <th>Low</th>\n",
       "      <th>Headlines</th>\n",
       "    </tr>\n",
       "    <tr>\n",
       "      <th>Date</th>\n",
       "      <th></th>\n",
       "      <th></th>\n",
       "      <th></th>\n",
       "      <th></th>\n",
       "      <th></th>\n",
       "      <th></th>\n",
       "    </tr>\n",
       "  </thead>\n",
       "  <tbody>\n",
       "    <tr>\n",
       "      <th>2015-01-02</th>\n",
       "      <td>46.760</td>\n",
       "      <td>27843560.0</td>\n",
       "      <td>46.66</td>\n",
       "      <td>47.4200</td>\n",
       "      <td>46.54</td>\n",
       "      <td>What to expect from Apple in      beyond its s...</td>\n",
       "    </tr>\n",
       "    <tr>\n",
       "      <th>2015-01-05</th>\n",
       "      <td>46.325</td>\n",
       "      <td>39667400.0</td>\n",
       "      <td>46.37</td>\n",
       "      <td>46.7300</td>\n",
       "      <td>46.25</td>\n",
       "      <td>SIM free iPhone      Plus reportedly debuting ...</td>\n",
       "    </tr>\n",
       "    <tr>\n",
       "      <th>2015-01-06</th>\n",
       "      <td>45.650</td>\n",
       "      <td>36434980.0</td>\n",
       "      <td>46.38</td>\n",
       "      <td>46.7490</td>\n",
       "      <td>45.54</td>\n",
       "      <td>Technology Transforming Cars Into  Phones On W...</td>\n",
       "    </tr>\n",
       "    <tr>\n",
       "      <th>2015-01-07</th>\n",
       "      <td>46.230</td>\n",
       "      <td>29103920.0</td>\n",
       "      <td>45.98</td>\n",
       "      <td>46.4600</td>\n",
       "      <td>45.49</td>\n",
       "      <td>Technology Transforming Cars Into  Phones On W...</td>\n",
       "    </tr>\n",
       "    <tr>\n",
       "      <th>2015-01-08</th>\n",
       "      <td>47.590</td>\n",
       "      <td>29634030.0</td>\n",
       "      <td>46.75</td>\n",
       "      <td>47.7499</td>\n",
       "      <td>46.72</td>\n",
       "      <td>Technology Transforming Cars Into  Phones On W...</td>\n",
       "    </tr>\n",
       "  </tbody>\n",
       "</table>\n",
       "</div>"
      ],
      "text/plain": [
       "             Close      Volume   Open     High    Low  \\\n",
       "Date                                                    \n",
       "2015-01-02  46.760  27843560.0  46.66  47.4200  46.54   \n",
       "2015-01-05  46.325  39667400.0  46.37  46.7300  46.25   \n",
       "2015-01-06  45.650  36434980.0  46.38  46.7490  45.54   \n",
       "2015-01-07  46.230  29103920.0  45.98  46.4600  45.49   \n",
       "2015-01-08  47.590  29634030.0  46.75  47.7499  46.72   \n",
       "\n",
       "                                                    Headlines  \n",
       "Date                                                           \n",
       "2015-01-02  What to expect from Apple in      beyond its s...  \n",
       "2015-01-05  SIM free iPhone      Plus reportedly debuting ...  \n",
       "2015-01-06  Technology Transforming Cars Into  Phones On W...  \n",
       "2015-01-07  Technology Transforming Cars Into  Phones On W...  \n",
       "2015-01-08  Technology Transforming Cars Into  Phones On W...  "
      ]
     },
     "execution_count": 10,
     "metadata": {},
     "output_type": "execute_result"
    }
   ],
   "source": [
    "df.Headlines.replace(\"[^a-zA-Z]\",\" \",regex=True,inplace=True)\n",
    "df.head()"
   ]
  },
  {
   "cell_type": "code",
   "execution_count": 11,
   "id": "4b3ebba5",
   "metadata": {},
   "outputs": [],
   "source": [
    "df['Headlines'] = df['Headlines'].apply(lambda x: \" \".join(x.lower() for x in x.split()))"
   ]
  },
  {
   "cell_type": "code",
   "execution_count": 12,
   "id": "e202909d",
   "metadata": {},
   "outputs": [],
   "source": [
    "stop = stopwords.words('english')\n",
    "df['Headlines'] = df['Headlines'].apply(lambda x: \" \".join(x for x in x.split() if x not in stop))"
   ]
  },
  {
   "cell_type": "code",
   "execution_count": 13,
   "id": "6fb66506",
   "metadata": {},
   "outputs": [],
   "source": [
    "st = PorterStemmer()\n",
    "df['Headlines'] = df['Headlines'].apply(lambda x: \" \".join([st.stem(word) for word in x.split()]))"
   ]
  },
  {
   "cell_type": "code",
   "execution_count": 14,
   "id": "d112dc14",
   "metadata": {},
   "outputs": [
    {
     "name": "stderr",
     "output_type": "stream",
     "text": [
      "[nltk_data] Downloading package punkt to C:\\Users\\Shebin's\n",
      "[nltk_data]     PC\\AppData\\Roaming\\nltk_data...\n",
      "[nltk_data]   Package punkt is already up-to-date!\n",
      "[nltk_data] Downloading package wordnet to C:\\Users\\Shebin's\n",
      "[nltk_data]     PC\\AppData\\Roaming\\nltk_data...\n",
      "[nltk_data]   Package wordnet is already up-to-date!\n"
     ]
    },
    {
     "data": {
      "text/html": [
       "<div>\n",
       "<style scoped>\n",
       "    .dataframe tbody tr th:only-of-type {\n",
       "        vertical-align: middle;\n",
       "    }\n",
       "\n",
       "    .dataframe tbody tr th {\n",
       "        vertical-align: top;\n",
       "    }\n",
       "\n",
       "    .dataframe thead th {\n",
       "        text-align: right;\n",
       "    }\n",
       "</style>\n",
       "<table border=\"1\" class=\"dataframe\">\n",
       "  <thead>\n",
       "    <tr style=\"text-align: right;\">\n",
       "      <th></th>\n",
       "      <th>Close</th>\n",
       "      <th>Volume</th>\n",
       "      <th>Open</th>\n",
       "      <th>High</th>\n",
       "      <th>Low</th>\n",
       "      <th>Headlines</th>\n",
       "    </tr>\n",
       "    <tr>\n",
       "      <th>Date</th>\n",
       "      <th></th>\n",
       "      <th></th>\n",
       "      <th></th>\n",
       "      <th></th>\n",
       "      <th></th>\n",
       "      <th></th>\n",
       "    </tr>\n",
       "  </thead>\n",
       "  <tbody>\n",
       "    <tr>\n",
       "      <th>2015-01-02</th>\n",
       "      <td>46.760</td>\n",
       "      <td>27843560.0</td>\n",
       "      <td>46.66</td>\n",
       "      <td>47.4200</td>\n",
       "      <td>46.54</td>\n",
       "      <td>expect appl beyond smartwatch amazon quot late...</td>\n",
       "    </tr>\n",
       "    <tr>\n",
       "      <th>2015-01-05</th>\n",
       "      <td>46.325</td>\n",
       "      <td>39667400.0</td>\n",
       "      <td>46.37</td>\n",
       "      <td>46.7300</td>\n",
       "      <td>46.25</td>\n",
       "      <td>sim free iphon plu reportedli debut tomorrow l...</td>\n",
       "    </tr>\n",
       "    <tr>\n",
       "      <th>2015-01-06</th>\n",
       "      <td>45.650</td>\n",
       "      <td>36434980.0</td>\n",
       "      <td>46.38</td>\n",
       "      <td>46.7490</td>\n",
       "      <td>45.54</td>\n",
       "      <td>technolog transform car phone wheel appl quot ...</td>\n",
       "    </tr>\n",
       "    <tr>\n",
       "      <th>2015-01-07</th>\n",
       "      <td>46.230</td>\n",
       "      <td>29103920.0</td>\n",
       "      <td>45.98</td>\n",
       "      <td>46.4600</td>\n",
       "      <td>45.49</td>\n",
       "      <td>technolog transform car phone wheel appl quot ...</td>\n",
       "    </tr>\n",
       "    <tr>\n",
       "      <th>2015-01-08</th>\n",
       "      <td>47.590</td>\n",
       "      <td>29634030.0</td>\n",
       "      <td>46.75</td>\n",
       "      <td>47.7499</td>\n",
       "      <td>46.72</td>\n",
       "      <td>technolog transform car phone wheel appl quot ...</td>\n",
       "    </tr>\n",
       "    <tr>\n",
       "      <th>...</th>\n",
       "      <td>...</td>\n",
       "      <td>...</td>\n",
       "      <td>...</td>\n",
       "      <td>...</td>\n",
       "      <td>...</td>\n",
       "      <td>...</td>\n",
       "    </tr>\n",
       "    <tr>\n",
       "      <th>2021-06-03</th>\n",
       "      <td>245.710</td>\n",
       "      <td>25307710.0</td>\n",
       "      <td>245.22</td>\n",
       "      <td>246.3400</td>\n",
       "      <td>243.00</td>\n",
       "      <td>buy rh stock dip q earn growth wwdc expect app...</td>\n",
       "    </tr>\n",
       "    <tr>\n",
       "      <th>2021-06-04</th>\n",
       "      <td>250.790</td>\n",
       "      <td>25281090.0</td>\n",
       "      <td>247.76</td>\n",
       "      <td>251.6500</td>\n",
       "      <td>247.51</td>\n",
       "      <td>global equiti nearli grasp time record dollar ...</td>\n",
       "    </tr>\n",
       "    <tr>\n",
       "      <th>2021-06-07</th>\n",
       "      <td>253.810</td>\n",
       "      <td>23079170.0</td>\n",
       "      <td>249.98</td>\n",
       "      <td>254.0900</td>\n",
       "      <td>249.81</td>\n",
       "      <td>appl employe want remot work flexibl post covi...</td>\n",
       "    </tr>\n",
       "    <tr>\n",
       "      <th>2021-06-08</th>\n",
       "      <td>252.570</td>\n",
       "      <td>22455000.0</td>\n",
       "      <td>255.16</td>\n",
       "      <td>256.0100</td>\n",
       "      <td>252.51</td>\n",
       "      <td>appl chine manufactur talk u car batteri facto...</td>\n",
       "    </tr>\n",
       "    <tr>\n",
       "      <th>2021-06-09</th>\n",
       "      <td>253.590</td>\n",
       "      <td>17937630.0</td>\n",
       "      <td>253.81</td>\n",
       "      <td>255.5300</td>\n",
       "      <td>253.21</td>\n",
       "      <td>appl chine manufactur talk u car batteri facto...</td>\n",
       "    </tr>\n",
       "  </tbody>\n",
       "</table>\n",
       "<p>1620 rows × 6 columns</p>\n",
       "</div>"
      ],
      "text/plain": [
       "              Close      Volume    Open      High     Low  \\\n",
       "Date                                                        \n",
       "2015-01-02   46.760  27843560.0   46.66   47.4200   46.54   \n",
       "2015-01-05   46.325  39667400.0   46.37   46.7300   46.25   \n",
       "2015-01-06   45.650  36434980.0   46.38   46.7490   45.54   \n",
       "2015-01-07   46.230  29103920.0   45.98   46.4600   45.49   \n",
       "2015-01-08   47.590  29634030.0   46.75   47.7499   46.72   \n",
       "...             ...         ...     ...       ...     ...   \n",
       "2021-06-03  245.710  25307710.0  245.22  246.3400  243.00   \n",
       "2021-06-04  250.790  25281090.0  247.76  251.6500  247.51   \n",
       "2021-06-07  253.810  23079170.0  249.98  254.0900  249.81   \n",
       "2021-06-08  252.570  22455000.0  255.16  256.0100  252.51   \n",
       "2021-06-09  253.590  17937630.0  253.81  255.5300  253.21   \n",
       "\n",
       "                                                    Headlines  \n",
       "Date                                                           \n",
       "2015-01-02  expect appl beyond smartwatch amazon quot late...  \n",
       "2015-01-05  sim free iphon plu reportedli debut tomorrow l...  \n",
       "2015-01-06  technolog transform car phone wheel appl quot ...  \n",
       "2015-01-07  technolog transform car phone wheel appl quot ...  \n",
       "2015-01-08  technolog transform car phone wheel appl quot ...  \n",
       "...                                                       ...  \n",
       "2021-06-03  buy rh stock dip q earn growth wwdc expect app...  \n",
       "2021-06-04  global equiti nearli grasp time record dollar ...  \n",
       "2021-06-07  appl employe want remot work flexibl post covi...  \n",
       "2021-06-08  appl chine manufactur talk u car batteri facto...  \n",
       "2021-06-09  appl chine manufactur talk u car batteri facto...  \n",
       "\n",
       "[1620 rows x 6 columns]"
      ]
     },
     "execution_count": 14,
     "metadata": {},
     "output_type": "execute_result"
    }
   ],
   "source": [
    "#Apply lemmatization\n",
    "nltk.download('punkt')\n",
    "nltk.download('wordnet')\n",
    "from nltk.tokenize import word_tokenize\n",
    "from nltk.stem import WordNetLemmatizer  #used to perform lemmatization\n",
    "def lemmat(text):\n",
    "    lemma=WordNetLemmatizer()\n",
    "    words=word_tokenize(text)\n",
    "    return ' '.join([lemma.lemmatize(word) for word in words])\n",
    "df['Headlines'] = df['Headlines'].apply(lemmat)\n",
    "df"
   ]
  },
  {
   "cell_type": "code",
   "execution_count": 15,
   "id": "7e07f0b2",
   "metadata": {},
   "outputs": [
    {
     "name": "stderr",
     "output_type": "stream",
     "text": [
      "[nltk_data] Downloading package vader_lexicon to C:\\Users\\Shebin's\n",
      "[nltk_data]     PC\\AppData\\Roaming\\nltk_data...\n",
      "[nltk_data]   Package vader_lexicon is already up-to-date!\n"
     ]
    }
   ],
   "source": [
    "import nltk\n",
    "nltk.download('vader_lexicon')\n",
    "from nltk.sentiment.vader import SentimentIntensityAnalyzer\n",
    "import unicodedata"
   ]
  },
  {
   "cell_type": "code",
   "execution_count": 16,
   "id": "ccbb5955",
   "metadata": {},
   "outputs": [],
   "source": [
    "analyzer = SentimentIntensityAnalyzer()\n",
    "\n",
    "# calculating sentiment scores\n",
    "df['compound'] = df['Headlines'].apply(lambda x: analyzer.polarity_scores(x)['compound'])\n",
    "df['negative'] = df['Headlines'].apply(lambda x: analyzer.polarity_scores(x)['neg'])\n",
    "df['neutral'] = df['Headlines'].apply(lambda x: analyzer.polarity_scores(x)['neu'])\n",
    "df['positive'] = df['Headlines'].apply(lambda x: analyzer.polarity_scores(x)['pos'])\n"
   ]
  },
  {
   "cell_type": "code",
   "execution_count": 17,
   "id": "79b24108",
   "metadata": {},
   "outputs": [],
   "source": [
    "def getsubjectivity(text):\n",
    "    return TextBlob(text).sentiment.subjectivity"
   ]
  },
  {
   "cell_type": "code",
   "execution_count": 18,
   "id": "b6dce481",
   "metadata": {},
   "outputs": [],
   "source": [
    "def getpolarity(text):\n",
    "    return TextBlob(text).sentiment.polarity"
   ]
  },
  {
   "cell_type": "code",
   "execution_count": 19,
   "id": "ab42bad6",
   "metadata": {},
   "outputs": [
    {
     "data": {
      "text/html": [
       "<div>\n",
       "<style scoped>\n",
       "    .dataframe tbody tr th:only-of-type {\n",
       "        vertical-align: middle;\n",
       "    }\n",
       "\n",
       "    .dataframe tbody tr th {\n",
       "        vertical-align: top;\n",
       "    }\n",
       "\n",
       "    .dataframe thead th {\n",
       "        text-align: right;\n",
       "    }\n",
       "</style>\n",
       "<table border=\"1\" class=\"dataframe\">\n",
       "  <thead>\n",
       "    <tr style=\"text-align: right;\">\n",
       "      <th></th>\n",
       "      <th>Close</th>\n",
       "      <th>Volume</th>\n",
       "      <th>Open</th>\n",
       "      <th>High</th>\n",
       "      <th>Low</th>\n",
       "      <th>Headlines</th>\n",
       "      <th>compound</th>\n",
       "      <th>negative</th>\n",
       "      <th>neutral</th>\n",
       "      <th>positive</th>\n",
       "      <th>Subjectivity</th>\n",
       "      <th>Polarity</th>\n",
       "    </tr>\n",
       "    <tr>\n",
       "      <th>Date</th>\n",
       "      <th></th>\n",
       "      <th></th>\n",
       "      <th></th>\n",
       "      <th></th>\n",
       "      <th></th>\n",
       "      <th></th>\n",
       "      <th></th>\n",
       "      <th></th>\n",
       "      <th></th>\n",
       "      <th></th>\n",
       "      <th></th>\n",
       "      <th></th>\n",
       "    </tr>\n",
       "  </thead>\n",
       "  <tbody>\n",
       "    <tr>\n",
       "      <th>2015-01-02</th>\n",
       "      <td>46.760</td>\n",
       "      <td>27843560.0</td>\n",
       "      <td>46.66</td>\n",
       "      <td>47.4200</td>\n",
       "      <td>46.54</td>\n",
       "      <td>expect appl beyond smartwatch amazon quot late...</td>\n",
       "      <td>0.9918</td>\n",
       "      <td>0.015</td>\n",
       "      <td>0.848</td>\n",
       "      <td>0.137</td>\n",
       "      <td>0.500824</td>\n",
       "      <td>0.134640</td>\n",
       "    </tr>\n",
       "    <tr>\n",
       "      <th>2015-01-05</th>\n",
       "      <td>46.325</td>\n",
       "      <td>39667400.0</td>\n",
       "      <td>46.37</td>\n",
       "      <td>46.7300</td>\n",
       "      <td>46.25</td>\n",
       "      <td>sim free iphon plu reportedli debut tomorrow l...</td>\n",
       "      <td>0.9948</td>\n",
       "      <td>0.029</td>\n",
       "      <td>0.824</td>\n",
       "      <td>0.147</td>\n",
       "      <td>0.417707</td>\n",
       "      <td>0.093826</td>\n",
       "    </tr>\n",
       "    <tr>\n",
       "      <th>2015-01-06</th>\n",
       "      <td>45.650</td>\n",
       "      <td>36434980.0</td>\n",
       "      <td>46.38</td>\n",
       "      <td>46.7490</td>\n",
       "      <td>45.54</td>\n",
       "      <td>technolog transform car phone wheel appl quot ...</td>\n",
       "      <td>0.7906</td>\n",
       "      <td>0.058</td>\n",
       "      <td>0.869</td>\n",
       "      <td>0.072</td>\n",
       "      <td>0.423851</td>\n",
       "      <td>0.110063</td>\n",
       "    </tr>\n",
       "    <tr>\n",
       "      <th>2015-01-07</th>\n",
       "      <td>46.230</td>\n",
       "      <td>29103920.0</td>\n",
       "      <td>45.98</td>\n",
       "      <td>46.4600</td>\n",
       "      <td>45.49</td>\n",
       "      <td>technolog transform car phone wheel appl quot ...</td>\n",
       "      <td>0.7906</td>\n",
       "      <td>0.058</td>\n",
       "      <td>0.869</td>\n",
       "      <td>0.072</td>\n",
       "      <td>0.423851</td>\n",
       "      <td>0.110063</td>\n",
       "    </tr>\n",
       "    <tr>\n",
       "      <th>2015-01-08</th>\n",
       "      <td>47.590</td>\n",
       "      <td>29634030.0</td>\n",
       "      <td>46.75</td>\n",
       "      <td>47.7499</td>\n",
       "      <td>46.72</td>\n",
       "      <td>technolog transform car phone wheel appl quot ...</td>\n",
       "      <td>0.7906</td>\n",
       "      <td>0.058</td>\n",
       "      <td>0.869</td>\n",
       "      <td>0.072</td>\n",
       "      <td>0.423851</td>\n",
       "      <td>0.110063</td>\n",
       "    </tr>\n",
       "    <tr>\n",
       "      <th>...</th>\n",
       "      <td>...</td>\n",
       "      <td>...</td>\n",
       "      <td>...</td>\n",
       "      <td>...</td>\n",
       "      <td>...</td>\n",
       "      <td>...</td>\n",
       "      <td>...</td>\n",
       "      <td>...</td>\n",
       "      <td>...</td>\n",
       "      <td>...</td>\n",
       "      <td>...</td>\n",
       "      <td>...</td>\n",
       "    </tr>\n",
       "    <tr>\n",
       "      <th>2021-06-03</th>\n",
       "      <td>245.710</td>\n",
       "      <td>25307710.0</td>\n",
       "      <td>245.22</td>\n",
       "      <td>246.3400</td>\n",
       "      <td>243.00</td>\n",
       "      <td>buy rh stock dip q earn growth wwdc expect app...</td>\n",
       "      <td>0.9919</td>\n",
       "      <td>0.052</td>\n",
       "      <td>0.839</td>\n",
       "      <td>0.109</td>\n",
       "      <td>0.376462</td>\n",
       "      <td>0.118729</td>\n",
       "    </tr>\n",
       "    <tr>\n",
       "      <th>2021-06-04</th>\n",
       "      <td>250.790</td>\n",
       "      <td>25281090.0</td>\n",
       "      <td>247.76</td>\n",
       "      <td>251.6500</td>\n",
       "      <td>247.51</td>\n",
       "      <td>global equiti nearli grasp time record dollar ...</td>\n",
       "      <td>0.9941</td>\n",
       "      <td>0.032</td>\n",
       "      <td>0.866</td>\n",
       "      <td>0.102</td>\n",
       "      <td>0.404654</td>\n",
       "      <td>0.102977</td>\n",
       "    </tr>\n",
       "    <tr>\n",
       "      <th>2021-06-07</th>\n",
       "      <td>253.810</td>\n",
       "      <td>23079170.0</td>\n",
       "      <td>249.98</td>\n",
       "      <td>254.0900</td>\n",
       "      <td>249.81</td>\n",
       "      <td>appl employe want remot work flexibl post covi...</td>\n",
       "      <td>0.9382</td>\n",
       "      <td>0.046</td>\n",
       "      <td>0.864</td>\n",
       "      <td>0.091</td>\n",
       "      <td>0.204959</td>\n",
       "      <td>0.042975</td>\n",
       "    </tr>\n",
       "    <tr>\n",
       "      <th>2021-06-08</th>\n",
       "      <td>252.570</td>\n",
       "      <td>22455000.0</td>\n",
       "      <td>255.16</td>\n",
       "      <td>256.0100</td>\n",
       "      <td>252.51</td>\n",
       "      <td>appl chine manufactur talk u car batteri facto...</td>\n",
       "      <td>0.9965</td>\n",
       "      <td>0.028</td>\n",
       "      <td>0.861</td>\n",
       "      <td>0.111</td>\n",
       "      <td>0.430434</td>\n",
       "      <td>0.060948</td>\n",
       "    </tr>\n",
       "    <tr>\n",
       "      <th>2021-06-09</th>\n",
       "      <td>253.590</td>\n",
       "      <td>17937630.0</td>\n",
       "      <td>253.81</td>\n",
       "      <td>255.5300</td>\n",
       "      <td>253.21</td>\n",
       "      <td>appl chine manufactur talk u car batteri facto...</td>\n",
       "      <td>0.9965</td>\n",
       "      <td>0.028</td>\n",
       "      <td>0.861</td>\n",
       "      <td>0.111</td>\n",
       "      <td>0.430434</td>\n",
       "      <td>0.060948</td>\n",
       "    </tr>\n",
       "  </tbody>\n",
       "</table>\n",
       "<p>1620 rows × 12 columns</p>\n",
       "</div>"
      ],
      "text/plain": [
       "              Close      Volume    Open      High     Low  \\\n",
       "Date                                                        \n",
       "2015-01-02   46.760  27843560.0   46.66   47.4200   46.54   \n",
       "2015-01-05   46.325  39667400.0   46.37   46.7300   46.25   \n",
       "2015-01-06   45.650  36434980.0   46.38   46.7490   45.54   \n",
       "2015-01-07   46.230  29103920.0   45.98   46.4600   45.49   \n",
       "2015-01-08   47.590  29634030.0   46.75   47.7499   46.72   \n",
       "...             ...         ...     ...       ...     ...   \n",
       "2021-06-03  245.710  25307710.0  245.22  246.3400  243.00   \n",
       "2021-06-04  250.790  25281090.0  247.76  251.6500  247.51   \n",
       "2021-06-07  253.810  23079170.0  249.98  254.0900  249.81   \n",
       "2021-06-08  252.570  22455000.0  255.16  256.0100  252.51   \n",
       "2021-06-09  253.590  17937630.0  253.81  255.5300  253.21   \n",
       "\n",
       "                                                    Headlines  compound  \\\n",
       "Date                                                                      \n",
       "2015-01-02  expect appl beyond smartwatch amazon quot late...    0.9918   \n",
       "2015-01-05  sim free iphon plu reportedli debut tomorrow l...    0.9948   \n",
       "2015-01-06  technolog transform car phone wheel appl quot ...    0.7906   \n",
       "2015-01-07  technolog transform car phone wheel appl quot ...    0.7906   \n",
       "2015-01-08  technolog transform car phone wheel appl quot ...    0.7906   \n",
       "...                                                       ...       ...   \n",
       "2021-06-03  buy rh stock dip q earn growth wwdc expect app...    0.9919   \n",
       "2021-06-04  global equiti nearli grasp time record dollar ...    0.9941   \n",
       "2021-06-07  appl employe want remot work flexibl post covi...    0.9382   \n",
       "2021-06-08  appl chine manufactur talk u car batteri facto...    0.9965   \n",
       "2021-06-09  appl chine manufactur talk u car batteri facto...    0.9965   \n",
       "\n",
       "            negative  neutral  positive  Subjectivity  Polarity  \n",
       "Date                                                             \n",
       "2015-01-02     0.015    0.848     0.137      0.500824  0.134640  \n",
       "2015-01-05     0.029    0.824     0.147      0.417707  0.093826  \n",
       "2015-01-06     0.058    0.869     0.072      0.423851  0.110063  \n",
       "2015-01-07     0.058    0.869     0.072      0.423851  0.110063  \n",
       "2015-01-08     0.058    0.869     0.072      0.423851  0.110063  \n",
       "...              ...      ...       ...           ...       ...  \n",
       "2021-06-03     0.052    0.839     0.109      0.376462  0.118729  \n",
       "2021-06-04     0.032    0.866     0.102      0.404654  0.102977  \n",
       "2021-06-07     0.046    0.864     0.091      0.204959  0.042975  \n",
       "2021-06-08     0.028    0.861     0.111      0.430434  0.060948  \n",
       "2021-06-09     0.028    0.861     0.111      0.430434  0.060948  \n",
       "\n",
       "[1620 rows x 12 columns]"
      ]
     },
     "execution_count": 19,
     "metadata": {},
     "output_type": "execute_result"
    }
   ],
   "source": [
    "df['Subjectivity']=df['Headlines'].apply(getsubjectivity)\n",
    "df['Polarity']=df['Headlines'].apply(getpolarity)\n",
    "df"
   ]
  },
  {
   "cell_type": "code",
   "execution_count": 20,
   "id": "0019e914",
   "metadata": {},
   "outputs": [
    {
     "data": {
      "text/html": [
       "<div>\n",
       "<style scoped>\n",
       "    .dataframe tbody tr th:only-of-type {\n",
       "        vertical-align: middle;\n",
       "    }\n",
       "\n",
       "    .dataframe tbody tr th {\n",
       "        vertical-align: top;\n",
       "    }\n",
       "\n",
       "    .dataframe thead th {\n",
       "        text-align: right;\n",
       "    }\n",
       "</style>\n",
       "<table border=\"1\" class=\"dataframe\">\n",
       "  <thead>\n",
       "    <tr style=\"text-align: right;\">\n",
       "      <th></th>\n",
       "      <th>Close</th>\n",
       "      <th>Volume</th>\n",
       "      <th>Open</th>\n",
       "      <th>High</th>\n",
       "      <th>Low</th>\n",
       "      <th>compound</th>\n",
       "      <th>negative</th>\n",
       "      <th>neutral</th>\n",
       "      <th>positive</th>\n",
       "      <th>Subjectivity</th>\n",
       "      <th>Polarity</th>\n",
       "    </tr>\n",
       "    <tr>\n",
       "      <th>Date</th>\n",
       "      <th></th>\n",
       "      <th></th>\n",
       "      <th></th>\n",
       "      <th></th>\n",
       "      <th></th>\n",
       "      <th></th>\n",
       "      <th></th>\n",
       "      <th></th>\n",
       "      <th></th>\n",
       "      <th></th>\n",
       "      <th></th>\n",
       "    </tr>\n",
       "  </thead>\n",
       "  <tbody>\n",
       "    <tr>\n",
       "      <th>2015-01-02</th>\n",
       "      <td>46.760</td>\n",
       "      <td>27843560.0</td>\n",
       "      <td>46.66</td>\n",
       "      <td>47.4200</td>\n",
       "      <td>46.54</td>\n",
       "      <td>0.9918</td>\n",
       "      <td>0.015</td>\n",
       "      <td>0.848</td>\n",
       "      <td>0.137</td>\n",
       "      <td>0.500824</td>\n",
       "      <td>0.134640</td>\n",
       "    </tr>\n",
       "    <tr>\n",
       "      <th>2015-01-05</th>\n",
       "      <td>46.325</td>\n",
       "      <td>39667400.0</td>\n",
       "      <td>46.37</td>\n",
       "      <td>46.7300</td>\n",
       "      <td>46.25</td>\n",
       "      <td>0.9948</td>\n",
       "      <td>0.029</td>\n",
       "      <td>0.824</td>\n",
       "      <td>0.147</td>\n",
       "      <td>0.417707</td>\n",
       "      <td>0.093826</td>\n",
       "    </tr>\n",
       "    <tr>\n",
       "      <th>2015-01-06</th>\n",
       "      <td>45.650</td>\n",
       "      <td>36434980.0</td>\n",
       "      <td>46.38</td>\n",
       "      <td>46.7490</td>\n",
       "      <td>45.54</td>\n",
       "      <td>0.7906</td>\n",
       "      <td>0.058</td>\n",
       "      <td>0.869</td>\n",
       "      <td>0.072</td>\n",
       "      <td>0.423851</td>\n",
       "      <td>0.110063</td>\n",
       "    </tr>\n",
       "    <tr>\n",
       "      <th>2015-01-07</th>\n",
       "      <td>46.230</td>\n",
       "      <td>29103920.0</td>\n",
       "      <td>45.98</td>\n",
       "      <td>46.4600</td>\n",
       "      <td>45.49</td>\n",
       "      <td>0.7906</td>\n",
       "      <td>0.058</td>\n",
       "      <td>0.869</td>\n",
       "      <td>0.072</td>\n",
       "      <td>0.423851</td>\n",
       "      <td>0.110063</td>\n",
       "    </tr>\n",
       "    <tr>\n",
       "      <th>2015-01-08</th>\n",
       "      <td>47.590</td>\n",
       "      <td>29634030.0</td>\n",
       "      <td>46.75</td>\n",
       "      <td>47.7499</td>\n",
       "      <td>46.72</td>\n",
       "      <td>0.7906</td>\n",
       "      <td>0.058</td>\n",
       "      <td>0.869</td>\n",
       "      <td>0.072</td>\n",
       "      <td>0.423851</td>\n",
       "      <td>0.110063</td>\n",
       "    </tr>\n",
       "  </tbody>\n",
       "</table>\n",
       "</div>"
      ],
      "text/plain": [
       "             Close      Volume   Open     High    Low  compound  negative  \\\n",
       "Date                                                                        \n",
       "2015-01-02  46.760  27843560.0  46.66  47.4200  46.54    0.9918     0.015   \n",
       "2015-01-05  46.325  39667400.0  46.37  46.7300  46.25    0.9948     0.029   \n",
       "2015-01-06  45.650  36434980.0  46.38  46.7490  45.54    0.7906     0.058   \n",
       "2015-01-07  46.230  29103920.0  45.98  46.4600  45.49    0.7906     0.058   \n",
       "2015-01-08  47.590  29634030.0  46.75  47.7499  46.72    0.7906     0.058   \n",
       "\n",
       "            neutral  positive  Subjectivity  Polarity  \n",
       "Date                                                   \n",
       "2015-01-02    0.848     0.137      0.500824  0.134640  \n",
       "2015-01-05    0.824     0.147      0.417707  0.093826  \n",
       "2015-01-06    0.869     0.072      0.423851  0.110063  \n",
       "2015-01-07    0.869     0.072      0.423851  0.110063  \n",
       "2015-01-08    0.869     0.072      0.423851  0.110063  "
      ]
     },
     "execution_count": 20,
     "metadata": {},
     "output_type": "execute_result"
    }
   ],
   "source": [
    "df = df[['Close','Volume','Open','High','Low','compound', 'negative', 'neutral', 'positive','Subjectivity','Polarity']]\n",
    "df.head()"
   ]
  },
  {
   "cell_type": "code",
   "execution_count": 21,
   "id": "8a67378d",
   "metadata": {},
   "outputs": [],
   "source": [
    "X=df[['Volume','Open','High','Low','compound', 'negative', 'neutral', 'positive','Subjectivity','Polarity']]\n",
    "y=df['Close']"
   ]
  },
  {
   "cell_type": "code",
   "execution_count": 22,
   "id": "77189ca3",
   "metadata": {},
   "outputs": [],
   "source": [
    "X_train, X_test, y_train, y_test = train_test_split(X, y, test_size=0.2) "
   ]
  },
  {
   "cell_type": "code",
   "execution_count": 23,
   "id": "d2a270ef",
   "metadata": {},
   "outputs": [
    {
     "data": {
      "text/plain": [
       "LinearRegression()"
      ]
     },
     "execution_count": 23,
     "metadata": {},
     "output_type": "execute_result"
    }
   ],
   "source": [
    "regressor=LinearRegression()\n",
    "regressor.fit(X_train,y_train)"
   ]
  },
  {
   "cell_type": "code",
   "execution_count": 24,
   "id": "330382d2",
   "metadata": {},
   "outputs": [
    {
     "name": "stdout",
     "output_type": "stream",
     "text": [
      "[-2.02118328e-09 -6.18054423e-01  8.30426723e-01  7.87587449e-01\n",
      "  2.29691198e-02  1.84415773e+01  1.83005164e+01  1.80046453e+01\n",
      " -3.65378587e-01 -1.26712097e-01]\n"
     ]
    }
   ],
   "source": [
    "print(regressor.coef_)"
   ]
  },
  {
   "cell_type": "code",
   "execution_count": 25,
   "id": "f2482968",
   "metadata": {},
   "outputs": [
    {
     "name": "stdout",
     "output_type": "stream",
     "text": [
      "-18.024367067179128\n"
     ]
    }
   ],
   "source": [
    "print(regressor.intercept_)"
   ]
  },
  {
   "cell_type": "code",
   "execution_count": 26,
   "id": "84f8353e",
   "metadata": {},
   "outputs": [
    {
     "name": "stdout",
     "output_type": "stream",
     "text": [
      "                Volume    Open      High      Low  compound  negative  \\\n",
      "Date                                                                    \n",
      "2019-05-29  22763140.0  125.38  125.3900  124.040   -0.8979     0.087   \n",
      "2021-03-29  25227460.0  236.59  236.8000  231.880    0.6369     0.093   \n",
      "2016-04-12  24874410.0   54.37   54.7800   53.760    0.9042     0.028   \n",
      "2016-05-23  26110160.0   50.60   50.6800   49.980    0.4588     0.054   \n",
      "2021-02-04  25296100.0  242.66  243.2399  240.370    0.9896     0.062   \n",
      "...                ...     ...       ...      ...       ...       ...   \n",
      "2015-04-22  25032050.0   42.67   43.1300   42.550    0.9633     0.049   \n",
      "2020-11-24  33979730.0  209.59  214.2500  208.860    0.9956     0.054   \n",
      "2019-07-18  30808710.0  135.55  136.6200  134.670    0.8689     0.072   \n",
      "2017-12-13  21708830.0   85.74   86.0000   85.170    0.9953     0.018   \n",
      "2018-07-16  20782300.0  105.40  105.8200  104.515    0.9705     0.071   \n",
      "\n",
      "            neutral  positive  Subjectivity  Polarity  \n",
      "Date                                                   \n",
      "2019-05-29    0.854     0.059      0.377990  0.066029  \n",
      "2021-03-29    0.809     0.098      0.486667  0.243333  \n",
      "2016-04-12    0.833     0.139      0.441964  0.294048  \n",
      "2016-05-23    0.882     0.065      0.533395  0.151956  \n",
      "2021-02-04    0.822     0.116      0.394767  0.101323  \n",
      "...             ...       ...           ...       ...  \n",
      "2015-04-22    0.861     0.090      0.450821 -0.000773  \n",
      "2020-11-24    0.822     0.124      0.403434  0.222122  \n",
      "2019-07-18    0.813     0.115      0.318895  0.101159  \n",
      "2017-12-13    0.877     0.105      0.333939  0.062071  \n",
      "2018-07-16    0.804     0.126      0.403474 -0.040835  \n",
      "\n",
      "[324 rows x 10 columns]\n"
     ]
    }
   ],
   "source": [
    "predicted=regressor.predict(X_test)\n",
    "print(X_test)"
   ]
  },
  {
   "cell_type": "code",
   "execution_count": 27,
   "id": "313e6bf2",
   "metadata": {},
   "outputs": [
    {
     "data": {
      "text/plain": [
       "(324,)"
      ]
     },
     "execution_count": 27,
     "metadata": {},
     "output_type": "execute_result"
    }
   ],
   "source": [
    "predicted.shape"
   ]
  },
  {
   "cell_type": "code",
   "execution_count": 28,
   "id": "32c45a42",
   "metadata": {},
   "outputs": [
    {
     "data": {
      "text/html": [
       "<div>\n",
       "<style scoped>\n",
       "    .dataframe tbody tr th:only-of-type {\n",
       "        vertical-align: middle;\n",
       "    }\n",
       "\n",
       "    .dataframe tbody tr th {\n",
       "        vertical-align: top;\n",
       "    }\n",
       "\n",
       "    .dataframe thead th {\n",
       "        text-align: right;\n",
       "    }\n",
       "</style>\n",
       "<table border=\"1\" class=\"dataframe\">\n",
       "  <thead>\n",
       "    <tr style=\"text-align: right;\">\n",
       "      <th></th>\n",
       "      <th>Actual price</th>\n",
       "      <th>Predicted price</th>\n",
       "    </tr>\n",
       "    <tr>\n",
       "      <th>Date</th>\n",
       "      <th></th>\n",
       "      <th></th>\n",
       "    </tr>\n",
       "  </thead>\n",
       "  <tbody>\n",
       "    <tr>\n",
       "      <th>2015-01-07</th>\n",
       "      <td>46.23</td>\n",
       "      <td>46.026086</td>\n",
       "    </tr>\n",
       "    <tr>\n",
       "      <th>2015-01-12</th>\n",
       "      <td>46.60</td>\n",
       "      <td>46.810065</td>\n",
       "    </tr>\n",
       "    <tr>\n",
       "      <th>2015-01-15</th>\n",
       "      <td>45.48</td>\n",
       "      <td>45.749689</td>\n",
       "    </tr>\n",
       "    <tr>\n",
       "      <th>2015-01-23</th>\n",
       "      <td>47.18</td>\n",
       "      <td>47.012246</td>\n",
       "    </tr>\n",
       "    <tr>\n",
       "      <th>2015-01-26</th>\n",
       "      <td>47.01</td>\n",
       "      <td>46.528188</td>\n",
       "    </tr>\n",
       "    <tr>\n",
       "      <th>...</th>\n",
       "      <td>...</td>\n",
       "      <td>...</td>\n",
       "    </tr>\n",
       "    <tr>\n",
       "      <th>2021-05-04</th>\n",
       "      <td>247.79</td>\n",
       "      <td>247.084796</td>\n",
       "    </tr>\n",
       "    <tr>\n",
       "      <th>2021-05-13</th>\n",
       "      <td>243.03</td>\n",
       "      <td>244.707686</td>\n",
       "    </tr>\n",
       "    <tr>\n",
       "      <th>2021-05-17</th>\n",
       "      <td>245.18</td>\n",
       "      <td>244.254286</td>\n",
       "    </tr>\n",
       "    <tr>\n",
       "      <th>2021-05-21</th>\n",
       "      <td>245.17</td>\n",
       "      <td>246.028666</td>\n",
       "    </tr>\n",
       "    <tr>\n",
       "      <th>2021-05-24</th>\n",
       "      <td>250.78</td>\n",
       "      <td>250.405588</td>\n",
       "    </tr>\n",
       "  </tbody>\n",
       "</table>\n",
       "<p>324 rows × 2 columns</p>\n",
       "</div>"
      ],
      "text/plain": [
       "            Actual price  Predicted price\n",
       "Date                                     \n",
       "2015-01-07         46.23        46.026086\n",
       "2015-01-12         46.60        46.810065\n",
       "2015-01-15         45.48        45.749689\n",
       "2015-01-23         47.18        47.012246\n",
       "2015-01-26         47.01        46.528188\n",
       "...                  ...              ...\n",
       "2021-05-04        247.79       247.084796\n",
       "2021-05-13        243.03       244.707686\n",
       "2021-05-17        245.18       244.254286\n",
       "2021-05-21        245.17       246.028666\n",
       "2021-05-24        250.78       250.405588\n",
       "\n",
       "[324 rows x 2 columns]"
      ]
     },
     "execution_count": 28,
     "metadata": {},
     "output_type": "execute_result"
    }
   ],
   "source": [
    "df1=pd.DataFrame({'Actual price': y_test,'Predicted price':predicted})\n",
    "df1=df1.sort_values(by='Date')\n",
    "df1"
   ]
  },
  {
   "cell_type": "code",
   "execution_count": 29,
   "id": "5c2a00dc",
   "metadata": {},
   "outputs": [
    {
     "data": {
      "image/png": "[encoded data removed]",
      "text/plain": [
       "<Figure size 1200x500 with 1 Axes>"
      ]
     },
     "metadata": {
      "needs_background": "light"
     },
     "output_type": "display_data"
    }
   ],
   "source": [
    "plt.figure(figsize=(12,5), dpi=100)\n",
    "plt.plot(df1['Actual price'], color = 'blue', label='Actual Stock Price')\n",
    "plt.plot(df1['Predicted price'], color = 'orange',label='Predicted Stock Price')\n",
    "plt.title('Microsoft Stock Price Prediction')\n",
    "plt.xlabel('Date')\n",
    "plt.ylabel('Close Stock Price')\n",
    "plt.legend(loc='upper left', fontsize=8)\n",
    "plt.show()"
   ]
  },
  {
   "cell_type": "code",
   "execution_count": 30,
   "id": "674b0ed5",
   "metadata": {},
   "outputs": [
    {
     "name": "stdout",
     "output_type": "stream",
     "text": [
      "99.9710226565232\n"
     ]
    }
   ],
   "source": [
    "from sklearn.metrics import accuracy_score\n",
    "import math\n",
    "print(regressor.score(X_test,y_test)*100) "
   ]
  },
  {
   "cell_type": "code",
   "execution_count": 31,
   "id": "6b773aec",
   "metadata": {},
   "outputs": [
    {
     "name": "stdout",
     "output_type": "stream",
     "text": [
      "Mean absolute Error : 0.5406821028807133\n",
      "Mean squared error: 1.065984215534302\n",
      "Root mean squared error: 1.0324651158922038\n"
     ]
    }
   ],
   "source": [
    "print('Mean absolute Error :' ,metrics.mean_absolute_error(y_test,predicted))\n",
    "print('Mean squared error:',metrics.mean_squared_error(y_test,predicted))\n",
    "print('Root mean squared error:',math.sqrt(metrics.mean_squared_error(y_test,predicted)))"
   ]
  },
  {
   "cell_type": "code",
   "execution_count": 32,
   "id": "2ebee988",
   "metadata": {},
   "outputs": [
    {
     "data": {
      "text/plain": [
       "<AxesSubplot:xlabel='Date'>"
      ]
     },
     "execution_count": 32,
     "metadata": {},
     "output_type": "execute_result"
    },
    {
     "data": {
      "image/png": "[encoded data removed]",
      "text/plain": [
       "<Figure size 432x288 with 1 Axes>"
      ]
     },
     "metadata": {
      "needs_background": "light"
     },
     "output_type": "display_data"
    }
   ],
   "source": [
    "graph=df1.head(20)\n",
    "graph.plot(kind='bar')"
   ]
  },
  {
   "cell_type": "code",
   "execution_count": 33,
   "id": "918a31c4",
   "metadata": {},
   "outputs": [
    {
     "name": "stdout",
     "output_type": "stream",
     "text": [
      "\n",
      "Metric           Train                Test        \n",
      "r2_score  0.9998451526735533\t0.999710226565232\n",
      "\n"
     ]
    }
   ],
   "source": [
    "from sklearn.metrics import r2_score\n",
    "scores = f'''\n",
    "{'Metric'.ljust(10)}{'Train'.center(20)}{'Test'.center(20)}\n",
    "{'r2_score'.ljust(10)}{r2_score(y_train,regressor.predict(X_train))}\\t{r2_score(y_test,regressor.predict(X_test))}\n",
    "'''\n",
    "print(scores)"
   ]
  },
  {
   "cell_type": "code",
   "execution_count": 34,
   "id": "5849f3ad",
   "metadata": {},
   "outputs": [
    {
     "data": {
      "text/plain": [
       "array([0.99984942, 0.99989167, 0.99981395, 0.99978533, 0.99980643])"
      ]
     },
     "execution_count": 34,
     "metadata": {},
     "output_type": "execute_result"
    }
   ],
   "source": [
    "#use k-fold cross validation\n",
    "from sklearn.model_selection import ShuffleSplit\n",
    "from sklearn.model_selection import cross_val_score\n",
    "\n",
    "cv = ShuffleSplit(n_splits=5, test_size=0.2, random_state=0)\n",
    "\n",
    "cross_val_score(LinearRegression(), X, y, cv=cv)"
   ]
  },
  {
   "cell_type": "code",
   "execution_count": 35,
   "id": "6615980a",
   "metadata": {},
   "outputs": [
    {
     "name": "stdout",
     "output_type": "stream",
     "text": [
      "2021-06-10 00:00:00\n"
     ]
    }
   ],
   "source": [
    "import datetime\n",
    "last_day = df.index[-1]\n",
    "next_day = last_day + datetime.timedelta(days = 1)\n",
    "print(next_day)"
   ]
  },
  {
   "cell_type": "code",
   "execution_count": 36,
   "id": "76cb9008",
   "metadata": {},
   "outputs": [
    {
     "data": {
      "text/plain": [
       "Index(['Volume', 'Open', 'High', 'Low', 'compound', 'negative', 'neutral',\n",
       "       'positive', 'Subjectivity', 'Polarity'],\n",
       "      dtype='object')"
      ]
     },
     "execution_count": 36,
     "metadata": {},
     "output_type": "execute_result"
    }
   ],
   "source": [
    "X.columns"
   ]
  },
  {
   "cell_type": "code",
   "execution_count": 37,
   "id": "44b08495",
   "metadata": {},
   "outputs": [],
   "source": [
    "#Function to predict Close\n",
    "\n",
    "def predict_price(Open,High,Low,Volume,Headlines):\n",
    "    data = {'Volume':[Volume],'Open':[Open],'High':[High],'Low':[Low],'Headlines':[Headlines]}\n",
    "    df2 = pd.DataFrame(data)\n",
    "    df2['Headlines'] = df2['Headlines'].astype(str)\n",
    "    df2.Headlines.replace(\"[^a-zA-Z]\",\" \",regex=True,inplace=True)\n",
    "    df2['Headlines'] = df2['Headlines'].apply(lambda x: \" \".join(x.lower() for x in x.split()))\n",
    "    df2['Headlines'] = df2['Headlines'].apply(lambda x: \" \".join(x for x in x.split() if x not in stop))\n",
    "    df2['Headlines'] = df2['Headlines'].apply(lambda x: \" \".join([st.stem(word) for word in x.split()]))\n",
    "    df2['Headlines'] = df2['Headlines'].apply(lemmat)\n",
    "    df2['compound'] = df2['Headlines'].apply(lambda x: analyzer.polarity_scores(x)['compound'])\n",
    "    df2['negative'] = df2['Headlines'].apply(lambda x: analyzer.polarity_scores(x)['neg'])\n",
    "    df2['neutral'] = df2['Headlines'].apply(lambda x: analyzer.polarity_scores(x)['neu'])\n",
    "    df2['positive'] = df2['Headlines'].apply(lambda x: analyzer.polarity_scores(x)['pos'])\n",
    "    df2['Subjectivity']=df2['Headlines'].apply(getsubjectivity)\n",
    "    df2['Polarity']=df2['Headlines'].apply(getpolarity)\n",
    "    df2_testdata= df2[['Volume','Open','High','Low','compound', 'negative', 'neutral', 'positive','Subjectivity','Polarity']]\n",
    "    return regressor.predict(df2_testdata)[0]\n",
    "  "
   ]
  },
  {
   "cell_type": "code",
   "execution_count": 38,
   "id": "6ad1a3ce",
   "metadata": {},
   "outputs": [],
   "source": [
    "prediction = predict_price(285.17,286.66,283.91,20944846.00,\"Microsoft, Alphabet and Apple Post $57 Billion In Earnings, ‘PGRO’ Profits\")"
   ]
  },
  {
   "cell_type": "code",
   "execution_count": 39,
   "id": "17fbfeb9",
   "metadata": {},
   "outputs": [
    {
     "name": "stdout",
     "output_type": "stream",
     "text": [
      "Close : 285.56073851964595\n"
     ]
    }
   ],
   "source": [
    "print(\"Close :\" ,prediction)"
   ]
  },
  {
   "cell_type": "code",
   "execution_count": 40,
   "id": "29f26d96",
   "metadata": {},
   "outputs": [],
   "source": [
    "#Saving model\n",
    "import pickle\n",
    "pickle_out = open(\"model.pkl\",\"wb\")\n",
    "pickle.dump(regressor,pickle_out)\n",
    "pickle_out.close()"
   ]
  },
  {
   "cell_type": "code",
   "execution_count": null,
   "id": "d73c1164",
   "metadata": {},
   "outputs": [],
   "source": []
  }
 ],
 "metadata": {
  "kernelspec": {
   "display_name": "Python 3",
   "language": "python",
   "name": "python3"
  },
  "language_info": {
   "codemirror_mode": {
    "name": "ipython",
    "version": 3
   },
   "file_extension": ".py",
   "mimetype": "text/x-python",
   "name": "python",
   "nbconvert_exporter": "python",
   "pygments_lexer": "ipython3",
   "version": "3.7.10"
  }
 },
 "nbformat": 4,
 "nbformat_minor": 5
}
